{
 "cells": [
  {
   "cell_type": "code",
   "execution_count": 1,
   "metadata": {},
   "outputs": [
    {
     "name": "stdout",
     "output_type": "stream",
     "text": [
      "EX = 2.2215738874333537 , sqrt(DX) = 5.406493313935073\n",
      "3*sigma/mu =  7.300896015006747\n",
      "Asymptotic dispersion =  1319.4444444444443\n"
     ]
    }
   ],
   "source": [
    "import random as rd\n",
    "import scipy.optimize as opt\n",
    "import math\n",
    "import numpy as np\n",
    "\n",
    "\n",
    "def norm_density(x, theta, sigma):\n",
    "    return -(x - theta) * (x - theta) / (2 * sigma * sigma) - math.log(math.fabs(sigma) * math.sqrt(2 * math.pi))\n",
    "\n",
    "\n",
    "def func(tup, arr):\n",
    "    theta, sigma = tup[0], tup[1]\n",
    "    ans = 1\n",
    "    for x in arr:\n",
    "        ans += norm_density(x, theta, sigma)\n",
    "    return -ans\n",
    "\n",
    "\n",
    "def calc_disp(mat, jac):\n",
    "    return (jac[0] * mat[0][0] + jac[1] * mat[1][0]) * jac[0] + (jac[0] * mat[0][1] + jac[1] * mat[1][1]) * jac[1]\n",
    "\n",
    "\n",
    "def calc_fisher(mu, sigma):\n",
    "    return [[sigma ** 2, 0], [0, 2 * (sigma**4)]]\n",
    "\n",
    "\n",
    "def calc_jac(mu, sigma):\n",
    "    return tuple([-3*sigma / (mu**2), 3 / mu])\n",
    "\n",
    "\n",
    "def main():\n",
    "    norm = [rd.normalvariate(3, 5) for i in range(100)]\n",
    "    lol = opt.minimize(func, np.array((0, 1)), args=(norm, )).x\n",
    "    print(\"EX =\", lol[0], \", sqrt(DX) =\", lol[1])\n",
    "    print(\"3*sigma/mu = \", 3 * lol[1] / lol[0])\n",
    "    print(\"Asymptotic dispersion = \", calc_disp(calc_fisher(3, 5), calc_jac(3, 5)))\n",
    "\n",
    "\n",
    "main()"
   ]
  }
 ],
 "metadata": {
  "kernelspec": {
   "display_name": "Python 3",
   "language": "python",
   "name": "python3"
  },
  "language_info": {
   "codemirror_mode": {
    "name": "ipython",
    "version": 3
   },
   "file_extension": ".py",
   "mimetype": "text/x-python",
   "name": "python",
   "nbconvert_exporter": "python",
   "pygments_lexer": "ipython3",
   "version": "3.6.5"
  }
 },
 "nbformat": 4,
 "nbformat_minor": 4
}
