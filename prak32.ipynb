{
 "cells": [
  {
   "cell_type": "code",
   "execution_count": 5,
   "metadata": {
    "scrolled": true
   },
   "outputs": [],
   "source": [
    "import numpy as np\n",
    "import random as rd\n",
    "import scipy.stats as scs"
   ]
  },
  {
   "cell_type": "code",
   "execution_count": 6,
   "metadata": {},
   "outputs": [],
   "source": [
    "def main():\n",
    "    #читаем данные\n",
    "    with open(\"Inspection Data.txt\", \"r\") as f:\n",
    "        arr = [int(z) for z in f.readline().split()]\n",
    "\n",
    "    #оцениваем параметр\n",
    "    avg = np.mean(arr)\n",
    "    p = 1 / avg\n",
    "\n",
    "    #генерируем выборки\n",
    "    stat = []\n",
    "    for i in range(1000):\n",
    "        nxt = scs.geom.rvs(p, size=1000)\n",
    "        stat.append(p - 1 / np.mean(nxt))\n",
    "\n",
    "    #оцениваем при помощи pivotal bootstrap\n",
    "    n = len(stat)\n",
    "    stat.sort()\n",
    "    print(p - stat[round(0.975 * n)], p - stat[round(0.025 * n)])"
   ]
  },
  {
   "cell_type": "code",
   "execution_count": 7,
   "metadata": {},
   "outputs": [
    {
     "name": "stdout",
     "output_type": "stream",
     "text": [
      "0.13053126223730585 0.14594279042615294\n"
     ]
    }
   ],
   "source": [
    "main()"
   ]
  }
 ],
 "metadata": {
  "kernelspec": {
   "display_name": "Python 3",
   "language": "python",
   "name": "python3"
  },
  "language_info": {
   "codemirror_mode": {
    "name": "ipython",
    "version": 3
   },
   "file_extension": ".py",
   "mimetype": "text/x-python",
   "name": "python",
   "nbconvert_exporter": "python",
   "pygments_lexer": "ipython3",
   "version": "3.6.5"
  }
 },
 "nbformat": 4,
 "nbformat_minor": 4
}
