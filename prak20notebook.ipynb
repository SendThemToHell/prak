{
 "cells": [
  {
   "cell_type": "code",
   "execution_count": 1,
   "metadata": {},
   "outputs": [
    {
     "name": "stdout",
     "output_type": "stream",
     "text": [
      "pi =  0.6161616161616161\n"
     ]
    }
   ],
   "source": [
    "import decimal\n",
    "import random as rd\n",
    "\n",
    "decimal.getcontext().prec = 500\n",
    "\n",
    "\n",
    "def my_pow(base, pw):\n",
    "    ret = decimal.Decimal(1)\n",
    "    while pw:\n",
    "        if pw % 2 == 1:\n",
    "            ret *= base\n",
    "        base *= base\n",
    "        pw //= 2\n",
    "    return ret\n",
    "\n",
    "\n",
    "def get_val(s, c0, pi):\n",
    "    c1 = s - c0\n",
    "    ret = my_pow(decimal.Decimal(2), c0) * my_pow(decimal.Decimal(pi), c1)\n",
    "    if c1 < c0:\n",
    "        c0, c1 = c1, c0\n",
    "    for i in range(c1 + 1, s + 1):\n",
    "        ret *= decimal.Decimal(i)\n",
    "    for i in range(1, c0 + 1):\n",
    "        ret /= decimal.Decimal(i)\n",
    "    return ret\n",
    "\n",
    "\n",
    "def em(s, c2, c3, c4):\n",
    "    pi0 = decimal.Decimal(1/2)\n",
    "\n",
    "    for it in range(500):\n",
    "        numerator = decimal.Decimal(0)\n",
    "        denominator = decimal.Decimal(0)\n",
    "\n",
    "        for c0 in range(s + 1):\n",
    "            vl = get_val(s, c0, pi0)\n",
    "            numerator += vl * decimal.Decimal(s - c0 + c4)\n",
    "            denominator += vl * decimal.Decimal(s + c2 + c3 + c4 - c0)\n",
    "\n",
    "        pi0 = numerator / denominator\n",
    "\n",
    "    return pi0\n",
    "\n",
    "\n",
    "def main():\n",
    "    c1 = 125\n",
    "    c2 = 18\n",
    "    c3 = 20\n",
    "    c4 = 34\n",
    "\n",
    "    pi = em(c1, c2, c3, c4)\n",
    "\n",
    "    nc0 = 0\n",
    "    nc1 = 0\n",
    "    for i in range(c1):\n",
    "        if rd.uniform(0, 1) < 2 / (2 + pi):\n",
    "            nc0 += 1\n",
    "        else:\n",
    "            nc1 += 1\n",
    "\n",
    "    print(\"pi = \", (nc1 + c4) / (c1 + c2 + c3 + c4 - nc0))\n",
    "\n",
    "\n",
    "main()\n"
   ]
  },
  {
   "cell_type": "code",
   "execution_count": null,
   "metadata": {},
   "outputs": [],
   "source": []
  }
 ],
 "metadata": {
  "kernelspec": {
   "display_name": "Python 3",
   "language": "python",
   "name": "python3"
  },
  "language_info": {
   "codemirror_mode": {
    "name": "ipython",
    "version": 3
   },
   "file_extension": ".py",
   "mimetype": "text/x-python",
   "name": "python",
   "nbconvert_exporter": "python",
   "pygments_lexer": "ipython3",
   "version": "3.6.5"
  }
 },
 "nbformat": 4,
 "nbformat_minor": 4
}
