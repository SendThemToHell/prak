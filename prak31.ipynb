{
 "cells": [
  {
   "cell_type": "code",
   "execution_count": 4,
   "metadata": {},
   "outputs": [],
   "source": [
    "import pandas as pd\n",
    "import scipy.optimize as sco\n",
    "import math\n",
    "import sympy as sp"
   ]
  },
  {
   "cell_type": "code",
   "execution_count": 5,
   "metadata": {},
   "outputs": [],
   "source": [
    "# считаем количество двоечников, хорошистов, отличников в датасете\n",
    "def f(data):\n",
    "    ret = [0] * 3\n",
    "    for i in range(1, 10):\n",
    "        cnt = data[str(i)][0]\n",
    "        if i <= 4:\n",
    "            ret[0] += cnt\n",
    "        elif i <= 6:\n",
    "            ret[1] += cnt\n",
    "        else:\n",
    "            ret[2] += cnt\n",
    "    return ret"
   ]
  },
  {
   "cell_type": "code",
   "execution_count": 6,
   "metadata": {},
   "outputs": [],
   "source": [
    "#-ln(L)\n",
    "def L(arr_var, arr_par):\n",
    "    return -arr_par[2] * math.log(arr_var[0]) - arr_par[1] * math.log(arr_var[1]) \\\n",
    "        - arr_par[2] * math.log(1 - arr_var[1] - arr_var[0])"
   ]
  },
  {
   "cell_type": "code",
   "execution_count": 7,
   "metadata": {},
   "outputs": [],
   "source": [
    "def main():\n",
    "    #читаем данные\n",
    "    data = pd.read_csv(\"test.csv\")\n",
    "\n",
    "    #переводим в удобный формат\n",
    "    nwdata = f(data)\n",
    "\n",
    "    #считаем ОМП, получаем одновременно и обратный гессиан\n",
    "    res = sco.minimize(L, x0=[0.1, 0.1], args=(nwdata, ), bounds=((1e-6, 0.5 - 1e-6), (1e-6, 0.5 - 1e-6)))\n",
    "    inv_hess = res.hess_inv.todense()\n",
    "\n",
    "    #обращаем гессиан\n",
    "    det = inv_hess[0][0] * inv_hess[1][1] - inv_hess[0][1] * inv_hess[1][0]\n",
    "    hess = [[inv_hess[1][1] / det, inv_hess[0][1] / det], [inv_hess[1][0] / det, inv_hess[0][0] / det]]\n",
    "\n",
    "    p1 = res.x[0]\n",
    "    p2 = res.x[1]\n",
    "\n",
    "    #рисуем эллипсоид\n",
    "    sp.var('x y')\n",
    "    sp.plot_implicit(\n",
    "        hess[0][0] * (x - p1) ** 2 + (hess[0][1] + hess[1][0]) * (x - p1) * (y - p2) + hess[1][1] * (y - p2) ** 2 < 5.99\n",
    "        , x_var=(x, 0, 1), y_var=(y, 0, 1)\n",
    "    )"
   ]
  },
  {
   "cell_type": "code",
   "execution_count": 8,
   "metadata": {},
   "outputs": [
    {
     "data": {
      "image/png": "[encoded data removed]",
      "text/plain": [
       "<Figure size 432x288 with 1 Axes>"
      ]
     },
     "metadata": {
      "needs_background": "light"
     },
     "output_type": "display_data"
    }
   ],
   "source": [
    "main()"
   ]
  }
 ],
 "metadata": {
  "kernelspec": {
   "display_name": "Python 3",
   "language": "python",
   "name": "python3"
  },
  "language_info": {
   "codemirror_mode": {
    "name": "ipython",
    "version": 3
   },
   "file_extension": ".py",
   "mimetype": "text/x-python",
   "name": "python",
   "nbconvert_exporter": "python",
   "pygments_lexer": "ipython3",
   "version": "3.6.5"
  }
 },
 "nbformat": 4,
 "nbformat_minor": 4
}
